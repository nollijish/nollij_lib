{
 "cells": [
  {
   "cell_type": "code",
   "execution_count": 1,
   "id": "d16d935b-9aee-4bae-94e8-72f387b65c65",
   "metadata": {},
   "outputs": [],
   "source": [
    "import sqlite3"
   ]
  },
  {
   "cell_type": "code",
   "execution_count": null,
   "id": "fba2c8f3-93d8-43f9-81df-ac2ee5970036",
   "metadata": {},
   "outputs": [],
   "source": [
    "def get_pri_keys(cur,table):\n",
    "    # get primary keys from a table\n",
    "    # input table has to be a string and is the table for which outpul is desired\n",
    "    # input cur is a cursor object connected to a database\n",
    "    # output tuple of primary key ordered by orig construction\n",
    "    table = (table,)\n",
    "    sql = '''\n",
    "    SELECT name, pk \n",
    "    FROM pragma_table_info(?)\n",
    "    WHERE pk > 0;\n",
    "    '''\n",
    "    columns = cur.execute(sql, table).fetchall()\n",
    "    pri_key = tuple(i[0] for i in sorted(columns, key=(lambda x:x[1])))\n",
    "    return pri_key"
   ]
  },
  {
   "cell_type": "code",
   "execution_count": null,
   "id": "d4c73038-7682-40fb-a578-a2b28e943adc",
   "metadata": {},
   "outputs": [],
   "source": [
    "def get_tables(cur):\n",
    "    # input cur is a cursor object connected to a database\n",
    "    # output list of tables\n",
    "    sql = '''\n",
    "    SELECT name \n",
    "    FROM sqlite_schema \n",
    "    WHERE type IN ('table','view') AND name NOT LIKE 'sqlite_%'\n",
    "    ORDER BY 1;\n",
    "    '''\n",
    "    tables = [i[0] for i in cur.execute(sql).fetchall()]\n",
    "    return tables"
   ]
  },
  {
   "cell_type": "code",
   "execution_count": null,
   "id": "507c8cd7-a9fd-425c-b2ac-7270e6116e2f",
   "metadata": {},
   "outputs": [],
   "source": [
    "def get_forn_keys(cur,table):\n",
    "    # get primary keys from a table\n",
    "    # input table has to be a string and is the table for which outpul is desired\n",
    "    # input cur is a cursor object connected to a database\n",
    "    # output list of tuples of foreign keys in the form (localAttribute, foreignTable.foreignAttribute)\n",
    "    table = (table,)\n",
    "    sql = '''\n",
    "    SELECT *\n",
    "    FROM pragma_foreign_key_list(?)\n",
    "    '''\n",
    "    blurb = cur.execute(sql,table).fetchall()\n",
    "    forn_key = [(i[3],'{}.{}'.format(i[2],i[4])) for i in blurb]\n",
    "    return forn_key"
   ]
  },
  {
   "cell_type": "code",
   "execution_count": null,
   "id": "850fee48-939d-48dc-a2ef-ba9b43931f48",
   "metadata": {},
   "outputs": [],
   "source": [
    "def get_schema(cur,table):\n",
    "    # get full table creation schema from a database\n",
    "    # input table has to be a string and is the table for which outpul is desired\n",
    "    # input cur is a cursor object connected to a database\n",
    "    table = (table,)\n",
    "    sql = '''\n",
    "    SELECT sql \n",
    "    FROM sqlite_schema\n",
    "    WHERE tbl_name = ? AND type = 'table'\n",
    "    ORDER BY tbl_name, type DESC, name;\n",
    "    '''\n",
    "    blurb = cur.execute(sql,table).fetchall()\n",
    "    remove_char = [ord(i) for i in ['\\n','\\t','(',')',',']]\n",
    "    remove_uni = [34, 39, 168, 180]\n",
    "    remove = remove_char + remove_uni\n",
    "    schema = [i.lstrip(' ') for i in blurb[0][0].translate({i:None for i in remove}).split('\\r') if i!='']\n",
    "    return schema"
   ]
  }
 ],
 "metadata": {
  "kernelspec": {
   "display_name": "Python 3 (ipykernel)",
   "language": "python",
   "name": "python3"
  },
  "language_info": {
   "codemirror_mode": {
    "name": "ipython",
    "version": 3
   },
   "file_extension": ".py",
   "mimetype": "text/x-python",
   "name": "python",
   "nbconvert_exporter": "python",
   "pygments_lexer": "ipython3",
   "version": "3.9.13"
  }
 },
 "nbformat": 4,
 "nbformat_minor": 5
}
