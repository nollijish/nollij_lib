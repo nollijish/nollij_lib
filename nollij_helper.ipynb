{
 "cells": [
  {
   "cell_type": "code",
   "execution_count": null,
   "id": "77ba15e5-e5bb-4307-959d-433c79506f8e",
   "metadata": {},
   "outputs": [],
   "source": [
    "import csv"
   ]
  },
  {
   "cell_type": "code",
   "execution_count": null,
   "id": "a2597b4c-43cd-44f8-a7a5-a749f251e502",
   "metadata": {},
   "outputs": [],
   "source": [
    "def write_csv(filename,data,header=''):\n",
    "    # input filename is a string of the desired filename or path\n",
    "    # data is information desired to be written\n",
    "    # header it the first row with column information\n",
    "    with open(filename,'w') as out:\n",
    "        csv_out=csv.writer(out)\n",
    "        csv_out.writerow(header)\n",
    "        for row in data:\n",
    "            csv_out.writerow(row)"
   ]
  }
 ],
 "metadata": {
  "kernelspec": {
   "display_name": "Python 3 (ipykernel)",
   "language": "python",
   "name": "python3"
  },
  "language_info": {
   "codemirror_mode": {
    "name": "ipython",
    "version": 3
   },
   "file_extension": ".py",
   "mimetype": "text/x-python",
   "name": "python",
   "nbconvert_exporter": "python",
   "pygments_lexer": "ipython3",
   "version": "3.9.13"
  }
 },
 "nbformat": 4,
 "nbformat_minor": 5
}
